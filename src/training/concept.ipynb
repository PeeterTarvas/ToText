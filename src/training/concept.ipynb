{
 "cells": [
  {
   "cell_type": "code",
   "id": "initial_id",
   "metadata": {
    "collapsed": true,
    "ExecuteTime": {
     "end_time": "2024-08-19T21:25:25.399279Z",
     "start_time": "2024-08-19T21:25:25.384197Z"
    }
   },
   "source": [
    "import numpy as np\n",
    "import pandas as pd\n",
    "import matplotlib.pyplot as plt\n",
    "import os\n",
    "import zipfile\n",
    "from PIL import Image, ImageOps\n",
    "import ultralytics\n",
    "from pathlib import Path"
   ],
   "outputs": [],
   "execution_count": 2
  },
  {
   "cell_type": "code",
   "source": [
    "eminst_class_mapping = {0: '0', 1: '1', 2: '2', 3: '3', 4: '4', 5: '5', 6: '6', 7: '7', 8: '8', 9: '9', 10: 'A', 11: 'B',\n",
    "               12: 'C', 13: 'D', 14: 'E', 15: 'F', 16: 'G', 17: 'H', 18: 'I', 19: 'J', 20: 'K', 21: 'L', 22: 'M',\n",
    "               23: 'N', 24: 'O', 25: 'P', 26: 'Q', 27: 'R', 28: 'S', 29: 'T', 30: 'U', 31: 'V', 32: 'W', 33: 'X',\n",
    "               34: 'Y', 35: 'Z', 36: 'a', 37: 'b', 38: 'd', 39: 'e', 40: 'f', 41: 'g', 42: 'h', 43: 'n', 44: 'q',\n",
    "               45: 'r', 46: 't'}"
   ],
   "metadata": {
    "collapsed": false,
    "ExecuteTime": {
     "end_time": "2024-08-19T21:25:29.749404Z",
     "start_time": "2024-08-19T21:25:29.725630Z"
    }
   },
   "id": "bbc77e69b49dc3e0",
   "outputs": [],
   "execution_count": 3
  },
  {
   "cell_type": "markdown",
   "source": [],
   "metadata": {
    "collapsed": false
   },
   "id": "bcdb8926050a83b8"
  },
  {
   "cell_type": "code",
   "source": [
    "\n",
    "def change_to_project_root_dir() -> str:\n",
    "    current_directory_path: list[str] = os.getcwd().split('\\\\')\n",
    "    project_root_dir_as_list: list[str] = current_directory_path[:current_directory_path.index(\"src\")]\n",
    "    project_root_dir = \"\\\\\".join(project_root_dir_as_list)\n",
    "    os.chdir(project_root_dir)\n",
    "    return project_root_dir\n",
    "\n",
    "change_to_project_root_dir()\n",
    "\n",
    "DIR_NAME = Path(\"./resources\")\n",
    "DIR_NAME.mkdir(parents=True, exist_ok=True)\n"
   ],
   "metadata": {
    "collapsed": false,
    "ExecuteTime": {
     "end_time": "2024-08-19T21:40:36.225059Z",
     "start_time": "2024-08-19T21:40:36.160987Z"
    }
   },
   "id": "c1e38c61be5c022c",
   "outputs": [
    {
     "ename": "ValueError",
     "evalue": "'src' is not in list",
     "output_type": "error",
     "traceback": [
      "\u001B[1;31m---------------------------------------------------------------------------\u001B[0m",
      "\u001B[1;31mValueError\u001B[0m                                Traceback (most recent call last)",
      "Cell \u001B[1;32mIn[9], line 8\u001B[0m\n\u001B[0;32m      5\u001B[0m     os\u001B[38;5;241m.\u001B[39mchdir(project_root_dir)\n\u001B[0;32m      6\u001B[0m     \u001B[38;5;28;01mreturn\u001B[39;00m project_root_dir\n\u001B[1;32m----> 8\u001B[0m \u001B[43mchange_to_project_root_dir\u001B[49m\u001B[43m(\u001B[49m\u001B[43m)\u001B[49m\n\u001B[0;32m     10\u001B[0m DIR_NAME \u001B[38;5;241m=\u001B[39m Path(\u001B[38;5;124m\"\u001B[39m\u001B[38;5;124m./resources\u001B[39m\u001B[38;5;124m\"\u001B[39m)\n\u001B[0;32m     11\u001B[0m DIR_NAME\u001B[38;5;241m.\u001B[39mmkdir(parents\u001B[38;5;241m=\u001B[39m\u001B[38;5;28;01mTrue\u001B[39;00m, exist_ok\u001B[38;5;241m=\u001B[39m\u001B[38;5;28;01mTrue\u001B[39;00m)\n",
      "Cell \u001B[1;32mIn[9], line 3\u001B[0m, in \u001B[0;36mchange_to_project_root_dir\u001B[1;34m()\u001B[0m\n\u001B[0;32m      1\u001B[0m \u001B[38;5;28;01mdef\u001B[39;00m \u001B[38;5;21mchange_to_project_root_dir\u001B[39m() \u001B[38;5;241m-\u001B[39m\u001B[38;5;241m>\u001B[39m \u001B[38;5;28mstr\u001B[39m:\n\u001B[0;32m      2\u001B[0m     current_directory_path: \u001B[38;5;28mlist\u001B[39m[\u001B[38;5;28mstr\u001B[39m] \u001B[38;5;241m=\u001B[39m os\u001B[38;5;241m.\u001B[39mgetcwd()\u001B[38;5;241m.\u001B[39msplit(\u001B[38;5;124m'\u001B[39m\u001B[38;5;130;01m\\\\\u001B[39;00m\u001B[38;5;124m'\u001B[39m)\n\u001B[1;32m----> 3\u001B[0m     project_root_dir_as_list: \u001B[38;5;28mlist\u001B[39m[\u001B[38;5;28mstr\u001B[39m] \u001B[38;5;241m=\u001B[39m current_directory_path[:\u001B[43mcurrent_directory_path\u001B[49m\u001B[38;5;241;43m.\u001B[39;49m\u001B[43mindex\u001B[49m\u001B[43m(\u001B[49m\u001B[38;5;124;43m\"\u001B[39;49m\u001B[38;5;124;43msrc\u001B[39;49m\u001B[38;5;124;43m\"\u001B[39;49m\u001B[43m)\u001B[49m]\n\u001B[0;32m      4\u001B[0m     project_root_dir \u001B[38;5;241m=\u001B[39m \u001B[38;5;124m\"\u001B[39m\u001B[38;5;130;01m\\\\\u001B[39;00m\u001B[38;5;124m\"\u001B[39m\u001B[38;5;241m.\u001B[39mjoin(project_root_dir_as_list)\n\u001B[0;32m      5\u001B[0m     os\u001B[38;5;241m.\u001B[39mchdir(project_root_dir)\n",
      "\u001B[1;31mValueError\u001B[0m: 'src' is not in list"
     ]
    }
   ],
   "execution_count": 9
  },
  {
   "cell_type": "code",
   "source": [
    "current_directory_path: list[str] = os.getcwd().split('\\\\')\n",
    "print(current_directory_path)\n",
    "\n",
    "def extract_zip(zip_path: str, to_path: str):\n",
    "    # Extract the ZIP file\n",
    "    print(os.getcwd())\n",
    "    with zipfile.ZipFile(zip_path, 'r') as zip_ref:\n",
    "        zip_ref.extractall(to_path)\n",
    "\n",
    "extract_zip(\"./resources/tars/eminst.zip\", \"resources/data/eminst\")\n",
    "        "
   ],
   "metadata": {
    "collapsed": false,
    "ExecuteTime": {
     "end_time": "2024-08-19T21:41:13.372090Z",
     "start_time": "2024-08-19T21:41:13.277635Z"
    }
   },
   "id": "24cc48be47f289ab",
   "outputs": [
    {
     "name": "stdout",
     "output_type": "stream",
     "text": [
      "['C:', 'Users', 'peete', 'Dev', 'ToText']\n",
      "C:\\Users\\peete\\Dev\\ToText\n"
     ]
    },
    {
     "ename": "FileNotFoundError",
     "evalue": "[Errno 2] No such file or directory: './resources/tars/eminst.zip'",
     "output_type": "error",
     "traceback": [
      "\u001B[1;31m---------------------------------------------------------------------------\u001B[0m",
      "\u001B[1;31mFileNotFoundError\u001B[0m                         Traceback (most recent call last)",
      "Cell \u001B[1;32mIn[10], line 10\u001B[0m\n\u001B[0;32m      7\u001B[0m     \u001B[38;5;28;01mwith\u001B[39;00m zipfile\u001B[38;5;241m.\u001B[39mZipFile(zip_path, \u001B[38;5;124m'\u001B[39m\u001B[38;5;124mr\u001B[39m\u001B[38;5;124m'\u001B[39m) \u001B[38;5;28;01mas\u001B[39;00m zip_ref:\n\u001B[0;32m      8\u001B[0m         zip_ref\u001B[38;5;241m.\u001B[39mextractall(to_path)\n\u001B[1;32m---> 10\u001B[0m \u001B[43mextract_zip\u001B[49m\u001B[43m(\u001B[49m\u001B[38;5;124;43m\"\u001B[39;49m\u001B[38;5;124;43m./resources/tars/eminst.zip\u001B[39;49m\u001B[38;5;124;43m\"\u001B[39;49m\u001B[43m,\u001B[49m\u001B[43m \u001B[49m\u001B[38;5;124;43m\"\u001B[39;49m\u001B[38;5;124;43mresources/data/eminst\u001B[39;49m\u001B[38;5;124;43m\"\u001B[39;49m\u001B[43m)\u001B[49m\n",
      "Cell \u001B[1;32mIn[10], line 7\u001B[0m, in \u001B[0;36mextract_zip\u001B[1;34m(zip_path, to_path)\u001B[0m\n\u001B[0;32m      4\u001B[0m \u001B[38;5;28;01mdef\u001B[39;00m \u001B[38;5;21mextract_zip\u001B[39m(zip_path: \u001B[38;5;28mstr\u001B[39m, to_path: \u001B[38;5;28mstr\u001B[39m):\n\u001B[0;32m      5\u001B[0m     \u001B[38;5;66;03m# Extract the ZIP file\u001B[39;00m\n\u001B[0;32m      6\u001B[0m     \u001B[38;5;28mprint\u001B[39m(os\u001B[38;5;241m.\u001B[39mgetcwd())\n\u001B[1;32m----> 7\u001B[0m     \u001B[38;5;28;01mwith\u001B[39;00m \u001B[43mzipfile\u001B[49m\u001B[38;5;241;43m.\u001B[39;49m\u001B[43mZipFile\u001B[49m\u001B[43m(\u001B[49m\u001B[43mzip_path\u001B[49m\u001B[43m,\u001B[49m\u001B[43m \u001B[49m\u001B[38;5;124;43m'\u001B[39;49m\u001B[38;5;124;43mr\u001B[39;49m\u001B[38;5;124;43m'\u001B[39;49m\u001B[43m)\u001B[49m \u001B[38;5;28;01mas\u001B[39;00m zip_ref:\n\u001B[0;32m      8\u001B[0m         zip_ref\u001B[38;5;241m.\u001B[39mextractall(to_path)\n",
      "File \u001B[1;32m~\\Dev\\ToText\\.pixi\\envs\\default\\lib\\zipfile.py:1253\u001B[0m, in \u001B[0;36mZipFile.__init__\u001B[1;34m(self, file, mode, compression, allowZip64, compresslevel, strict_timestamps)\u001B[0m\n\u001B[0;32m   1251\u001B[0m \u001B[38;5;28;01mwhile\u001B[39;00m \u001B[38;5;28;01mTrue\u001B[39;00m:\n\u001B[0;32m   1252\u001B[0m     \u001B[38;5;28;01mtry\u001B[39;00m:\n\u001B[1;32m-> 1253\u001B[0m         \u001B[38;5;28mself\u001B[39m\u001B[38;5;241m.\u001B[39mfp \u001B[38;5;241m=\u001B[39m \u001B[43mio\u001B[49m\u001B[38;5;241;43m.\u001B[39;49m\u001B[43mopen\u001B[49m\u001B[43m(\u001B[49m\u001B[43mfile\u001B[49m\u001B[43m,\u001B[49m\u001B[43m \u001B[49m\u001B[43mfilemode\u001B[49m\u001B[43m)\u001B[49m\n\u001B[0;32m   1254\u001B[0m     \u001B[38;5;28;01mexcept\u001B[39;00m \u001B[38;5;167;01mOSError\u001B[39;00m:\n\u001B[0;32m   1255\u001B[0m         \u001B[38;5;28;01mif\u001B[39;00m filemode \u001B[38;5;129;01min\u001B[39;00m modeDict:\n",
      "\u001B[1;31mFileNotFoundError\u001B[0m: [Errno 2] No such file or directory: './resources/tars/eminst.zip'"
     ]
    }
   ],
   "execution_count": 10
  },
  {
   "cell_type": "code",
   "execution_count": null,
   "outputs": [],
   "source": [
    "def calculate_row_estimate(csv_path, size_in_mb) -> int:\n",
    "    sample_size = 1000\n",
    "    sample_df = pd.read_csv(csv_path, nrows=sample_size)\n",
    "    avg_row_size = sample_df.memory_usage(deep=True).sum() / sample_size\n",
    "    target_size_mb = size_in_mb\n",
    "    target_size_bytes = target_size_mb * 1024 * 1024\n",
    "    estimated_rows = int(target_size_bytes / avg_row_size)\n",
    "    print(\"rows: \" + str(estimated_rows))\n",
    "    return estimated_rows\n"
   ],
   "metadata": {
    "collapsed": false
   },
   "id": "c8a546ec3388ae30"
  },
  {
   "cell_type": "code",
   "execution_count": null,
   "outputs": [],
   "source": [
    "def load_emnist(folder_path: str, partial: bool = False, size_in_mb: int = 300):\n",
    "    if partial:\n",
    "        rows = calculate_row_estimate(folder_path + '/emnist-byclass-train.csv', size_in_mb)\n",
    "        emnist_train_df: pd.DataFrame = pd.read_csv(folder_path + '/emnist-byclass-train.csv', delimiter=',',\n",
    "                                                    header=None, nrows=rows)\n",
    "    else:\n",
    "        emnist_train_df: pd.DataFrame = pd.read_csv(folder_path + '/emnist-byclass-train.csv', delimiter=',', header=None)\n",
    "    return emnist_train_df\n",
    "\n",
    "DIR_NAME = Path(\"./resources/data/eminst\")\n",
    "DIR_NAME.mkdir(parents=True, exist_ok=True)\n",
    "df = load_emnist('resources/data/eminst', True, 20)\n"
   ],
   "metadata": {
    "collapsed": false
   },
   "id": "a4587f3636d8d86f"
  },
  {
   "cell_type": "code",
   "execution_count": null,
   "outputs": [],
   "source": [
    "from sklearn.model_selection import train_test_split\n",
    "\n",
    "\n",
    "def filter_by_labels(df: pd.DataFrame, labels: dict) -> pd.DataFrame:\n",
    "    return df[df[0].isin(labels.keys())].reset_index(drop=True)\n",
    "\n",
    "def format_to_train_and_test(df: pd.DataFrame, mapping: dict[int: str]):\n",
    "    X = df.drop(columns=[0], axis=1)\n",
    "    y = df[0].map(mapping)\n",
    "    x_train, x_test, y_train, y_test = train_test_split(X, y, test_size=0.1)\n",
    "    return x_train, x_test, y_train, y_test\n",
    "\n",
    "df = filter_by_labels(df, eminst_class_mapping)\n",
    "\n",
    "x_train, x_test, y_train, y_test = format_to_train_and_test(df, eminst_class_mapping)\n",
    "\n",
    "\n"
   ],
   "metadata": {
    "collapsed": false
   },
   "id": "ea56bbcf24f461e2"
  },
  {
   "cell_type": "code",
   "execution_count": null,
   "outputs": [],
   "source": [
    "def show_images(x, y, num_images):\n",
    "    num_cols = num_images\n",
    "    num_rows = (num_images + num_cols - 1) // num_cols\n",
    "\n",
    "    plt.figure(figsize=(num_cols * 2, num_rows * 2))\n",
    "\n",
    "    for i in range(num_images):\n",
    "        plt.subplot(num_rows, num_cols, i + 1)\n",
    "        plt.imshow(x.iloc[i].values.reshape(28, 28), cmap='gray')\n",
    "        plt.title(f\"Label: {y.iloc[i]}\")\n",
    "        plt.axis('off')\n",
    "\n",
    "    plt.tight_layout()\n",
    "    plt.show()\n",
    "show_images(x_train, y_train, 10)\n"
   ],
   "metadata": {
    "collapsed": false
   },
   "id": "9a607d709420e028"
  },
  {
   "cell_type": "code",
   "execution_count": null,
   "outputs": [],
   "source": [
    "from PIL import Image, ImageOps\n",
    "import numpy as np\n",
    "from pathlib import Path\n",
    "\n",
    "def convert(size, box):\n",
    "    dw = 1./size[0]\n",
    "    dh = 1./size[1]\n",
    "    x = (box[0] + box[1])/2.0\n",
    "    y = (box[2] + box[3])/2.0\n",
    "    w = box[1] - box[0]\n",
    "    h = box[3] - box[2]\n",
    "    x = x*dw\n",
    "    w = w*dw\n",
    "    y = y*dh\n",
    "    h = h*dh\n",
    "    return (x,y,w,h)\n",
    "\n",
    "\n",
    "def save_image_plotpib(filename, data_array):\n",
    "    plt.figure(figsize=(1, 1))\n",
    "    plt.subplot(1, 1, 1)\n",
    "    # plt.imshow(data_array.values.reshape(28, 28), cmap='gray')\n",
    "    data_array = np.array(data_array)\n",
    "    plt.imsave(filename, data_array.reshape(28, 28), cmap='gray')\n",
    "    plt.tight_layout()\n",
    "    plt.show()\n",
    "    return convert((28, 28), (0, 28, 0, 28))\n",
    "\n",
    "\n",
    "def save_image(filename, data_array):\n",
    "\n",
    "    #bgcolor = (0xff, 0xff, 0xff)\n",
    "    bgcolor = (0x00, 0x00, 0xff)\n",
    "    screen = (640, 640)\n",
    "    data_array = np.array(data_array)\n",
    "    data_array = np.resize(data_array, (28, 28)).astype(np.uint8)\n",
    "    img = Image.new('RGB', screen, bgcolor)\n",
    "\n",
    "    mnist_img = Image.fromarray(data_array.astype('uint8'))\n",
    "    mnist_img_invert = ImageOps.invert(mnist_img)\n",
    "\n",
    "    #w = int(round(mnist_img.width * random.uniform(8.0, 10.0)))\n",
    "    w = int(mnist_img.width*10)\n",
    "    mnist_img_invert = mnist_img_invert.resize((w,w))\n",
    "\n",
    "    #x = random.randint(0, img.width-w)\n",
    "    #y = random.randint(0, img.height-w)\n",
    "    x = int((img.width-w)/2)\n",
    "    y = int((img.height-w)/2)\n",
    "    img.paste(mnist_img_invert, (x, y))\n",
    "    img.save(filename)\n",
    "\n",
    "    return convert((img.width,img.height), (float(x), float(x+w), float(y), float(y+w)))\n",
    "\n",
    "\n",
    "\n",
    "def format_to_yolo(filepath: str, x: pd.DataFrame, labels: pd.DataFrame):\n",
    "# the data, shuffled and split between train and test sets\n",
    "#(x_train, y_train), (x_test, y_test) = mnist.load_data()\n",
    "    DIR_NAME = Path(filepath + \"images\")\n",
    "    DIR_NAME.mkdir(parents=True, exist_ok=True)\n",
    "    \n",
    "    LABEL_DIR_NAME = Path(filepath + \"labels\")\n",
    "    LABEL_DIR_NAME.mkdir(parents=True, exist_ok=True)\n",
    "    \n",
    "    x = x.to_numpy()\n",
    "    labels = labels.to_numpy()\n",
    "    for enum, row in enumerate(x):\n",
    "        # Write Image file\n",
    "        filename = \"{0}/{1:05d}.jpg\".format(DIR_NAME,enum)\n",
    "        ret = save_image(filename, row)\n",
    "        print(filename)\n",
    "        print(ret)\n",
    "        # Write label file\n",
    "        label_filename = \"{0}/{1:05d}.txt\".format(LABEL_DIR_NAME,enum)\n",
    "        f = open(label_filename, 'w')\n",
    "        y = labels[enum]\n",
    "        _str = f\"{y} {ret[0]} {ret[1]} {ret[2]} {ret[3]}\"\n",
    "        f.write(_str)\n",
    "        f.close()\n",
    "        \n",
    "format_to_yolo(\"resources/data/yolo/train/\", x_train, y_train)\n",
    "format_to_yolo(\"resources/data/yolo/test/\", x_test, y_test)\n"
   ],
   "metadata": {
    "collapsed": false
   },
   "id": "793d2ed008a97223"
  },
  {
   "cell_type": "code",
   "execution_count": null,
   "outputs": [],
   "source": [
    "from ultralytics import YOLO\n",
    "import torch\n",
    "torch.cuda.empty_cache()\n",
    "\n",
    "model = YOLO(\"YOLOv8n.yaml\")\n",
    "\n",
    "res = model.train(data=\"src/training/train.yaml\", epochs=10, imgsz=640, batch=5, degrees=5.0, translate=0.2, perspective=0.00001, scale=0.5, shear=0.1, mosaic=0.2, mixup=0.2, patience=0)"
   ],
   "metadata": {
    "collapsed": false
   },
   "id": "1ffe134217826fd4"
  },
  {
   "cell_type": "code",
   "execution_count": 4,
   "outputs": [
    {
     "name": "stdout",
     "output_type": "stream",
     "text": [
      "CUDA available: False\n",
      "CUDA version: None\n",
      "Device count: 0\n",
      "Device name: N/A\n"
     ]
    }
   ],
   "source": [
    "import torch\n",
    "print(f\"CUDA available: {torch.cuda.is_available()}\")\n",
    "print(f\"CUDA version: {torch.version.cuda}\")\n",
    "print(f\"Device count: {torch.cuda.device_count()}\")\n",
    "print(f\"Device name: {torch.cuda.get_device_name(0) if torch.cuda.is_available() else 'N/A'}\")"
   ],
   "metadata": {
    "collapsed": false,
    "ExecuteTime": {
     "end_time": "2024-08-14T09:19:53.669184900Z",
     "start_time": "2024-08-14T09:19:53.655189900Z"
    }
   },
   "id": "2c32b55eafccd91e"
  }
 ],
 "metadata": {
  "kernelspec": {
   "display_name": "Python 3",
   "language": "python",
   "name": "python3"
  },
  "language_info": {
   "codemirror_mode": {
    "name": "ipython",
    "version": 2
   },
   "file_extension": ".py",
   "mimetype": "text/x-python",
   "name": "python",
   "nbconvert_exporter": "python",
   "pygments_lexer": "ipython2",
   "version": "2.7.6"
  }
 },
 "nbformat": 4,
 "nbformat_minor": 5
}
