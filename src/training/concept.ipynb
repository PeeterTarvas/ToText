{
 "cells": [
  {
   "cell_type": "code",
   "execution_count": null,
   "id": "initial_id",
   "metadata": {
    "collapsed": true,
    "is_executing": true
   },
   "outputs": [],
   "source": [
    "import pandas as pd\n",
    "import matplotlib.pyplot as plt\n",
    "import os\n",
    "import zipfile"
   ]
  },
  {
   "cell_type": "code",
   "execution_count": null,
   "outputs": [],
   "source": [
    "eminst_class_mapping = {0: '0', 1: '1', 2: '2', 3: '3', 4: '4', 5: '5', 6: '6', 7: '7', 8: '8', 9: '9', 10: 'A', 11: 'B',\n",
    "               12: 'C', 13: 'D', 14: 'E', 15: 'F', 16: 'G', 17: 'H', 18: 'I', 19: 'J', 20: 'K', 21: 'L', 22: 'M',\n",
    "               23: 'N', 24: 'O', 25: 'P', 26: 'Q', 27: 'R', 28: 'S', 29: 'T', 30: 'U', 31: 'V', 32: 'W', 33: 'X',\n",
    "               34: 'Y', 35: 'Z', 36: 'a', 37: 'b', 38: 'd', 39: 'e', 40: 'f', 41: 'g', 42: 'h', 43: 'n', 44: 'q',\n",
    "               45: 'r', 46: 't'}"
   ],
   "metadata": {
    "collapsed": false,
    "is_executing": true
   },
   "id": "bbc77e69b49dc3e0"
  },
  {
   "cell_type": "markdown",
   "source": [],
   "metadata": {
    "collapsed": false
   },
   "id": "bcdb8926050a83b8"
  },
  {
   "cell_type": "code",
   "execution_count": null,
   "outputs": [],
   "source": [
    "def change_to_project_root_dir() -> str:\n",
    "    current_directory_path: list[str] = os.getcwd().split('\\\\')\n",
    "    project_root_dir_as_list: list[str] = current_directory_path[:current_directory_path.index(\"src\")]\n",
    "    project_root_dir = \"\\\\\".join(project_root_dir_as_list)\n",
    "    os.chdir(project_root_dir)\n",
    "    return project_root_dir\n",
    "\n",
    "change_to_project_root_dir()\n"
   ],
   "metadata": {
    "collapsed": false,
    "is_executing": true
   },
   "id": "c1e38c61be5c022c"
  },
  {
   "cell_type": "code",
   "execution_count": null,
   "outputs": [],
   "source": [
    "def extract_zip(zip_path: str, to_path: str):\n",
    "    # Extract the ZIP file\n",
    "    print(os.getcwd())\n",
    "    with zipfile.ZipFile(zip_path, 'r') as zip_ref:\n",
    "        zip_ref.extractall(to_path)\n",
    "#extract_zip(\"./resources/tars/eminst.zip\", \"resources/data/\")\n",
    "        "
   ],
   "metadata": {
    "collapsed": false,
    "is_executing": true
   },
   "id": "24cc48be47f289ab"
  },
  {
   "cell_type": "code",
   "execution_count": null,
   "outputs": [],
   "source": [
    "def calculate_row_estimate(csv_path, size_in_mb) -> int:\n",
    "    sample_size = 1000\n",
    "    sample_df = pd.read_csv(csv_path, nrows=sample_size)\n",
    "    avg_row_size = sample_df.memory_usage(deep=True).sum() / sample_size\n",
    "    target_size_mb = size_in_mb\n",
    "    target_size_bytes = target_size_mb * 1024 * 1024\n",
    "    estimated_rows = int(target_size_bytes / avg_row_size)\n",
    "    return estimated_rows\n"
   ],
   "metadata": {
    "collapsed": false,
    "is_executing": true
   },
   "id": "c8a546ec3388ae30"
  },
  {
   "cell_type": "code",
   "execution_count": null,
   "outputs": [],
   "source": [
    "def load_emnist(folder_path: str, partial: bool = False, size_in_mb: int = 300):\n",
    "    if partial:\n",
    "        rows = calculate_row_estimate(folder_path + '/emnist-byclass-train.csv', size_in_mb)\n",
    "        emnist_train_df: pd.DataFrame = pd.read_csv(folder_path + '/emnist-byclass-train.csv', delimiter=',',\n",
    "                                                    header=None, nrows=rows)\n",
    "    else:\n",
    "        emnist_train_df: pd.DataFrame = pd.read_csv(folder_path + '/emnist-byclass-train.csv', delimiter=',', header=None)\n",
    "    return emnist_train_df\n",
    "df = load_emnist('resources/data', True, 10)"
   ],
   "metadata": {
    "collapsed": false,
    "is_executing": true
   },
   "id": "a4587f3636d8d86f"
  },
  {
   "cell_type": "code",
   "execution_count": null,
   "outputs": [],
   "source": [
    "def filter_by_labels(df: pd.DataFrame, labels: dict) -> pd.DataFrame:\n",
    "    print(df[0])\n",
    "    return df[df[0].isin(labels.keys())].reset_index(drop=True)\n",
    "\n",
    "def format_to_train(df: pd.DataFrame, mapping: dict[int: str]):\n",
    "    x_train = df.drop(columns=[0], axis=1)\n",
    "    y_train = df[0].map(mapping)\n",
    "    return x_train, y_train\n",
    "df = filter_by_labels(df, eminst_class_mapping)\n",
    "print(df.head())\n",
    "x_train, y_train = format_to_train(df, eminst_class_mapping)\n"
   ],
   "metadata": {
    "collapsed": false,
    "is_executing": true
   },
   "id": "ea56bbcf24f461e2"
  },
  {
   "cell_type": "code",
   "execution_count": null,
   "outputs": [],
   "source": [
    "def show_images(x, y, num_images):\n",
    "    num_cols = num_images\n",
    "    num_rows = (num_images + num_cols - 1) // num_cols\n",
    "\n",
    "    plt.figure(figsize=(num_cols * 2, num_rows * 2))\n",
    "\n",
    "    for i in range(num_images):\n",
    "        plt.subplot(num_rows, num_cols, i + 1)\n",
    "        plt.imshow(x.iloc[i].values.reshape(28, 28), cmap='gray')\n",
    "        plt.title(f\"Label: {y[i]}\")\n",
    "        plt.axis('off')\n",
    "\n",
    "    plt.tight_layout()\n",
    "    plt.show()\n",
    "show_images(x_train, y_train, 10)\n"
   ],
   "metadata": {
    "collapsed": false,
    "is_executing": true
   },
   "id": "9a607d709420e028"
  }
 ],
 "metadata": {
  "kernelspec": {
   "display_name": "Python 3",
   "language": "python",
   "name": "python3"
  },
  "language_info": {
   "codemirror_mode": {
    "name": "ipython",
    "version": 2
   },
   "file_extension": ".py",
   "mimetype": "text/x-python",
   "name": "python",
   "nbconvert_exporter": "python",
   "pygments_lexer": "ipython2",
   "version": "2.7.6"
  }
 },
 "nbformat": 4,
 "nbformat_minor": 5
}
